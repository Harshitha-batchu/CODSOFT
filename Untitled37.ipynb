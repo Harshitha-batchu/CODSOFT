{
  "nbformat": 4,
  "nbformat_minor": 0,
  "metadata": {
    "colab": {
      "provenance": [],
      "authorship_tag": "ABX9TyNEhOMUDMSq/OebTZ0MZPUH",
      "include_colab_link": true
    },
    "kernelspec": {
      "name": "python3",
      "display_name": "Python 3"
    },
    "language_info": {
      "name": "python"
    }
  },
  "cells": [
    {
      "cell_type": "markdown",
      "metadata": {
        "id": "view-in-github",
        "colab_type": "text"
      },
      "source": [
        "<a href=\"https://colab.research.google.com/github/Harshitha-batchu/Codsoft/blob/main/Untitled37.ipynb\" target=\"_parent\"><img src=\"https://colab.research.google.com/assets/colab-badge.svg\" alt=\"Open In Colab\"/></a>"
      ]
    },
    {
      "cell_type": "code",
      "source": [
        "def simple_chatbot(user_input):\n",
        "    # Convert user input to lowercase for case-insensitivity\n",
        "    user_input = user_input.lower()\n",
        "\n",
        "    # Greetings\n",
        "    if 'hello' in user_input or 'hi' in user_input:\n",
        "        return \"Hello! How can I help you today?\"\n",
        "\n",
        "    # Farewell\n",
        "    elif 'bye' in user_input or 'goodbye' in user_input:\n",
        "        return \"Goodbye! Have a great day.\"\n",
        "\n",
        "    # Default response\n",
        "    else:\n",
        "        return \"I'm sorry, I don't understand. Can you please rephrase your question?\"\n",
        "\n",
        "# Example usage\n",
        "while True:\n",
        "    user_query = input(\"You: \")\n",
        "    if user_query.lower() == 'exit':\n",
        "        print(\"Chatbot: Goodbye!\")\n",
        "        break\n",
        "    response = simple_chatbot(user_query)\n",
        "    print(\"Chatbot:\", response)\n"
      ],
      "metadata": {
        "colab": {
          "base_uri": "https://localhost:8080/"
        },
        "id": "7ANX6YkDXKNE",
        "outputId": "d84fec41-7305-42bb-98d8-4e34e0ed22ff"
      },
      "execution_count": null,
      "outputs": [
        {
          "output_type": "stream",
          "name": "stdout",
          "text": [
            "You: HI\n",
            "Chatbot: Hello! How can I help you today?\n"
          ]
        }
      ]
    }
  ]
}